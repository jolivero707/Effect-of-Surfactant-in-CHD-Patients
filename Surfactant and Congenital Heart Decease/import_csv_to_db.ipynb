{
 "cells": [
  {
   "cell_type": "code",
   "execution_count": 1,
   "metadata": {},
   "outputs": [],
   "source": [
    "import os\n",
    "import sqlalchemy\n",
    "from sqlalchemy.ext.automap import automap_base\n",
    "from sqlalchemy.orm import Session\n",
    "from sqlalchemy import create_engine, func,inspect,MetaData, Table,Column, Integer, String, Float\n",
    "from sqlalchemy.ext.declarative import declarative_base\n",
    "Base = declarative_base()"
   ]
  },
  {
   "cell_type": "code",
   "execution_count": 2,
   "metadata": {},
   "outputs": [],
   "source": [
    "from sqlalchemy import create_engine\n",
    "import pymysql\n",
    "pymysql.install_as_MySQLdb()\n",
    "\n",
    "from sqlalchemy.ext.declarative import declarative_base\n",
    "Base = declarative_base()\n",
    "from sqlalchemy import Column, Integer, String, Float\n",
    "\n",
    "from config import dbuser, dbpasswd, dburi, dbport, dbname\n",
    "from sqlalchemy import create_engine\n",
    "from sqlalchemy.orm import Session\n",
    "import numpy as np\n",
    "import pandas as pd"
   ]
  },
  {
   "cell_type": "code",
   "execution_count": 3,
   "metadata": {},
   "outputs": [],
   "source": [
    "engine = create_engine(f\"mysql://{dbuser}:{dbpasswd}@{dburi}:{dbport}/{dbname}\")"
   ]
  },
  {
   "cell_type": "code",
   "execution_count": null,
   "metadata": {},
   "outputs": [],
   "source": [
    "directory_Pharmacy = os.fsencode('/Surfactant project/Pharmacy')\n",
    "all_Pharmacy = []\n",
    "for file in os.listdir(directory_Pharmacy):\n",
    "    filename = os.fsdecode(file)\n",
    "    if filename.endswith(\".csv\"): \n",
    "        csv_file_path=os.path.join('/Surfactant project/Pharmacy', filename)\n",
    "        with open(csv_file_path, 'r') as file:\n",
    "            data_df = pd.read_csv(file)\n",
    "            all_Pharmacy.append(data_df)\n",
    "Pharmacy_df = pd.concat(all_Pharmacy, axis=1)\n"
   ]
  },
  {
   "cell_type": "code",
   "execution_count": null,
   "metadata": {},
   "outputs": [],
   "source": [
    "Pharmacy_df.head(3)"
   ]
  },
  {
   "cell_type": "code",
   "execution_count": null,
   "metadata": {},
   "outputs": [],
   "source": [
    "Pharmacy_df_1.head(3)"
   ]
  },
  {
   "cell_type": "code",
   "execution_count": null,
   "metadata": {},
   "outputs": [],
   "source": [
    "directory_Demographics = os.fsencode('/Surfactant project/Demographic')\n",
    "all_Demographics = []\n",
    "for file in os.listdir(directory_Demographics):\n",
    "    filename = os.fsdecode(file)\n",
    "    if filename.endswith(\".csv\"): \n",
    "        csv_file_path=os.path.join('/Surfactant project/Demographic', filename)\n",
    "        with open(csv_file_path, 'r') as file:\n",
    "            data_df = pd.read_csv(file)\n",
    "            all_Demographics.append(data_df)\n",
    "Demographics_df = pd.concat(all_Demographics, axis=1)\n",
    "len(Demographics_df)"
   ]
  },
  {
   "cell_type": "code",
   "execution_count": null,
   "metadata": {},
   "outputs": [],
   "source": [
    "Demographics_df.head()"
   ]
  },
  {
   "cell_type": "code",
   "execution_count": null,
   "metadata": {},
   "outputs": [],
   "source": [
    "directory_DxCode = os.fsencode('/Surfactant project/Dx_Code')\n",
    "all_DxCode = []\n",
    "for file in os.listdir(directory_DxCode):\n",
    "    filename = os.fsdecode(file)\n",
    "    if filename.endswith(\".csv\"): \n",
    "        csv_file_path=os.path.join('/Surfactant project/Dx_Code', filename)\n",
    "        with open(csv_file_path, 'r') as file:\n",
    "            data_df = pd.read_csv(file)\n",
    "            all_DxCode.append(data_df)\n",
    "DxCode_df = pd.concat(all_DxCode, axis=1)\n",
    "len(DxCode_df)"
   ]
  },
  {
   "cell_type": "code",
   "execution_count": null,
   "metadata": {},
   "outputs": [],
   "source": [
    "DxCode_df.head()"
   ]
  },
  {
   "cell_type": "code",
   "execution_count": null,
   "metadata": {},
   "outputs": [],
   "source": [
    "directory_Imagining = os.fsencode('/Surfactant project/Imagin')\n",
    "all_Imagining = []\n",
    "for file in os.listdir(directory_Imagining):\n",
    "    filename = os.fsdecode(file)\n",
    "    if filename.endswith(\".csv\"): \n",
    "        csv_file_path=os.path.join('/Surfactant project/Imagin', filename)\n",
    "        with open(csv_file_path, 'r') as file:\n",
    "            data_df = pd.read_csv(file)\n",
    "            all_Imagining.append(data_df)\n",
    "Imagining_df = pd.concat(all_Imagining, axis=1)\n",
    "len(Imagining_df)"
   ]
  },
  {
   "cell_type": "code",
   "execution_count": null,
   "metadata": {},
   "outputs": [],
   "source": [
    "Imagining_df.head()"
   ]
  },
  {
   "cell_type": "code",
   "execution_count": null,
   "metadata": {},
   "outputs": [],
   "source": [
    "directory_PxCode = os.fsencode('/Surfactant project/Px_Code')\n",
    "all_PxCode = []\n",
    "for file in os.listdir(directory_PxCode):\n",
    "    filename = os.fsdecode(file)\n",
    "    if filename.endswith(\".csv\"): \n",
    "        csv_file_path=os.path.join('/Surfactant project/Px_Code', filename)\n",
    "        with open(csv_file_path, 'r') as file:\n",
    "            data_df = pd.read_csv(file)\n",
    "            all_PxCode.append(data_df)\n",
    "PxCode_df = pd.concat(all_PxCode, axis=1)\n",
    "len(PxCode_df)"
   ]
  },
  {
   "cell_type": "code",
   "execution_count": null,
   "metadata": {
    "scrolled": true
   },
   "outputs": [],
   "source": [
    "PxCode_df.head()"
   ]
  },
  {
   "cell_type": "code",
   "execution_count": null,
   "metadata": {},
   "outputs": [],
   "source": [
    "# Pharmacy_df.iloc[0:287541,:].to_sql(con=engine, index_label='id', name='pharmacy', if_exists='replace')\n",
    "# Pharmacy_df.iloc[287541:575081,:].to_sql(con=engine, index_label='id', name='pharmacy', if_exists='append')\n",
    "# Pharmacy_df.iloc[575081:862621,:].to_sql(con=engine, index_label='id', name='pharmacy', if_exists='append')\n",
    "# DxCode_df.to_sql(con=engine, index_label='id', name='dxcode', if_exists='replace')\n",
    "# Demographics_df.to_sql(con=engine, index_label='id', name='demographics', if_exists='replace')\n",
    "# Imagining_df.to_sql(con=engine, index_label='id', name='imagining', if_exists='replace')\n",
    "# PxCode_df.to_sql(con=engine, index_label='id', name='pxcode', if_exists='replace')\n"
   ]
  },
  {
   "cell_type": "code",
   "execution_count": null,
   "metadata": {},
   "outputs": [],
   "source": [
    "# Pharmacy_df_1.iloc[0:287541,:].to_sql(con=engine, index_label='id', name='pharmacy_1', if_exists='replace')\n",
    "# Pharmacy_df_1.iloc[287541:575081,:].to_sql(con=engine, index_label='id', name='pharmacy_1', if_exists='append')\n",
    "# Pharmacy_df_1.iloc[575081:862621,:].to_sql(con=engine, index_label='id', name='pharmacy_1', if_exists='append')\n",
    "# Pharmacy_df_1.iloc[862621:1299399,:].to_sql(con=engine, index_label='id', name='pharmacy_1', if_exists='append')\n",
    "# Pharmacy_df_1.iloc[1299399:1954567,:].to_sql(con=engine, index_label='id', name='pharmacy_1', if_exists='append')\n",
    "# Pharmacy_df_1.iloc[1954567:2609735,:].to_sql(con=engine, index_label='id', name='pharmacy_1', if_exists='append')"
   ]
  },
  {
   "cell_type": "code",
   "execution_count": 4,
   "metadata": {},
   "outputs": [],
   "source": [
    "metaData = MetaData(engine)\n",
    "metaData.reflect(engine)\n",
    "Base = automap_base(metadata=metaData)\n",
    "Base.prepare(engine, reflect=True)\n",
    "Base.metadata.create_all(engine)\n",
    "\n",
    "Pharmacy = Base.classes.pharmacy\n",
    "Demographics = Base.classes.demographic\n",
    "Imagining = Base.classes.imagin\n",
    "Pxcode = Base.classes.pxcode\n",
    "Dxcode = Base.classes.dxcode\n",
    "Pharmacy_1 = Base.classes.pharmacy_1\n",
    "\n",
    "session = Session(engine)\n",
    "Base.metadata.create_all(engine)\n"
   ]
  },
  {
   "cell_type": "code",
   "execution_count": 5,
   "metadata": {},
   "outputs": [
    {
     "data": {
      "text/plain": [
       "[(datetime.datetime(2015, 10, 8, 0, 0), datetime.datetime(2017, 4, 1, 0, 0))]"
      ]
     },
     "execution_count": 5,
     "metadata": {},
     "output_type": "execute_result"
    }
   ],
   "source": [
    "pharmacy_TimeRange = session.execute('SELECT min(`Date Of Service`),max(`Date Of Service`) From pharmacy').fetchall()\n",
    "pharmacy_TimeRange"
   ]
  },
  {
   "cell_type": "code",
   "execution_count": 6,
   "metadata": {},
   "outputs": [
    {
     "data": {
      "text/plain": [
       "[(datetime.datetime(2007, 12, 24, 0, 0), datetime.datetime(2011, 12, 30, 0, 0), datetime.datetime(2010, 1, 1, 0, 0), datetime.datetime(2011, 12, 31, 0, 0))]"
      ]
     },
     "execution_count": 6,
     "metadata": {},
     "output_type": "execute_result"
    }
   ],
   "source": [
    "demographics_TimeRange = session.execute('SELECT min(`Admit Date`),max(`Admit Date`),min(`Discharge Date`),max(`Discharge Date`) From demographics').fetchall()\n",
    "demographics_TimeRange"
   ]
  },
  {
   "cell_type": "code",
   "execution_count": 7,
   "metadata": {},
   "outputs": [
    {
     "data": {
      "text/plain": [
       "[(datetime.datetime(1990, 1, 1, 0, 0), datetime.datetime(2017, 10, 2, 0, 0))]"
      ]
     },
     "execution_count": 7,
     "metadata": {},
     "output_type": "execute_result"
    }
   ],
   "source": [
    "pxcode_TimeRange = session.execute('SELECT min(`Date Of Service`),max(`Date Of Service`) From pxcode').fetchall()\n",
    "pxcode_TimeRange"
   ]
  },
  {
   "cell_type": "code",
   "execution_count": 19,
   "metadata": {},
   "outputs": [],
   "source": [
    "diagnosis_data = session.execute('SELECT pharmacy.`Generic Drug Title`, pharmacy.`Discharge ID`, dxcode.`Dx Code (ICD)`,dxcode.`Dx Title (ICD)`, pxcode.`Px Code (ICD)`, pxcode.`Px Title (ICD)` FROM pharmacy LEFT JOIN dxcode ON pharmacy.`Discharge ID` = dxcode.`Discharge ID` LEFT JOIN pxcode ON pharmacy.`Discharge ID` = pxcode.`Discharge ID` WHERE pharmacy.`Generic Drug Title` LIKE \"%surfactant%\"').fetchall()"
   ]
  },
  {
   "cell_type": "code",
   "execution_count": 28,
   "metadata": {},
   "outputs": [
    {
     "data": {
      "text/html": [
       "<div>\n",
       "<style scoped>\n",
       "    .dataframe tbody tr th:only-of-type {\n",
       "        vertical-align: middle;\n",
       "    }\n",
       "\n",
       "    .dataframe tbody tr th {\n",
       "        vertical-align: top;\n",
       "    }\n",
       "\n",
       "    .dataframe thead th {\n",
       "        text-align: right;\n",
       "    }\n",
       "</style>\n",
       "<table border=\"1\" class=\"dataframe\">\n",
       "  <thead>\n",
       "    <tr style=\"text-align: right;\">\n",
       "      <th></th>\n",
       "      <th>Generic_Drug_Title</th>\n",
       "      <th>Discharge_ID</th>\n",
       "      <th>Dx_Code</th>\n",
       "      <th>Dx_Title</th>\n",
       "      <th>Px_Code</th>\n",
       "      <th>Px_Title</th>\n",
       "    </tr>\n",
       "  </thead>\n",
       "  <tbody>\n",
       "    <tr>\n",
       "      <th>0</th>\n",
       "      <td>Beractant (natural lung surfactant)</td>\n",
       "      <td>142466482.0</td>\n",
       "      <td>B9689</td>\n",
       "      <td>Other specified bacterial agents as the cause ...</td>\n",
       "      <td>3E0234Z</td>\n",
       "      <td>Introduction of Serum, Toxoid and Vaccine into...</td>\n",
       "    </tr>\n",
       "    <tr>\n",
       "      <th>1</th>\n",
       "      <td>Beractant (natural lung surfactant)</td>\n",
       "      <td>142466482.0</td>\n",
       "      <td>B348</td>\n",
       "      <td>Other viral infections of unspecified site</td>\n",
       "      <td>3E0234Z</td>\n",
       "      <td>Introduction of Serum, Toxoid and Vaccine into...</td>\n",
       "    </tr>\n",
       "    <tr>\n",
       "      <th>2</th>\n",
       "      <td>Beractant (natural lung surfactant)</td>\n",
       "      <td>142466482.0</td>\n",
       "      <td>B9710</td>\n",
       "      <td>Unspecified enterovirus as the cause of diseas...</td>\n",
       "      <td>3E0234Z</td>\n",
       "      <td>Introduction of Serum, Toxoid and Vaccine into...</td>\n",
       "    </tr>\n",
       "    <tr>\n",
       "      <th>3</th>\n",
       "      <td>Beractant (natural lung surfactant)</td>\n",
       "      <td>142466482.0</td>\n",
       "      <td>R230</td>\n",
       "      <td>Cyanosis</td>\n",
       "      <td>3E0234Z</td>\n",
       "      <td>Introduction of Serum, Toxoid and Vaccine into...</td>\n",
       "    </tr>\n",
       "    <tr>\n",
       "      <th>4</th>\n",
       "      <td>Beractant (natural lung surfactant)</td>\n",
       "      <td>142466482.0</td>\n",
       "      <td>R6251</td>\n",
       "      <td>Failure to thrive (child)</td>\n",
       "      <td>3E0234Z</td>\n",
       "      <td>Introduction of Serum, Toxoid and Vaccine into...</td>\n",
       "    </tr>\n",
       "  </tbody>\n",
       "</table>\n",
       "</div>"
      ],
      "text/plain": [
       "                    Generic_Drug_Title  Discharge_ID Dx_Code  \\\n",
       "0  Beractant (natural lung surfactant)   142466482.0   B9689   \n",
       "1  Beractant (natural lung surfactant)   142466482.0    B348   \n",
       "2  Beractant (natural lung surfactant)   142466482.0   B9710   \n",
       "3  Beractant (natural lung surfactant)   142466482.0    R230   \n",
       "4  Beractant (natural lung surfactant)   142466482.0   R6251   \n",
       "\n",
       "                                            Dx_Title  Px_Code  \\\n",
       "0  Other specified bacterial agents as the cause ...  3E0234Z   \n",
       "1         Other viral infections of unspecified site  3E0234Z   \n",
       "2  Unspecified enterovirus as the cause of diseas...  3E0234Z   \n",
       "3                                           Cyanosis  3E0234Z   \n",
       "4                          Failure to thrive (child)  3E0234Z   \n",
       "\n",
       "                                            Px_Title  \n",
       "0  Introduction of Serum, Toxoid and Vaccine into...  \n",
       "1  Introduction of Serum, Toxoid and Vaccine into...  \n",
       "2  Introduction of Serum, Toxoid and Vaccine into...  \n",
       "3  Introduction of Serum, Toxoid and Vaccine into...  \n",
       "4  Introduction of Serum, Toxoid and Vaccine into...  "
      ]
     },
     "execution_count": 28,
     "metadata": {},
     "output_type": "execute_result"
    }
   ],
   "source": [
    "df_diagnosis = pd.DataFrame(diagnosis_data,columns=['Generic_Drug_Title','Discharge_ID','Dx_Code','Dx_Title','Px_Code','Px_Title'])\n",
    "\n",
    "df_diagnosis.head()"
   ]
  },
  {
   "cell_type": "code",
   "execution_count": 22,
   "metadata": {},
   "outputs": [],
   "source": [
    "df_diagnosis.to_csv(\"diagnosis_data.csv\", index=False, header=True)"
   ]
  },
  {
   "cell_type": "code",
   "execution_count": 42,
   "metadata": {},
   "outputs": [
    {
     "data": {
      "text/plain": [
       "20491"
      ]
     },
     "execution_count": 42,
     "metadata": {},
     "output_type": "execute_result"
    }
   ],
   "source": [
    "len(df_diagnosis)"
   ]
  },
  {
   "cell_type": "code",
   "execution_count": 43,
   "metadata": {},
   "outputs": [
    {
     "data": {
      "text/plain": [
       "54"
      ]
     },
     "execution_count": 43,
     "metadata": {},
     "output_type": "execute_result"
    }
   ],
   "source": [
    "df_diagnosis['Discharge_ID'].nunique()"
   ]
  },
  {
   "cell_type": "code",
   "execution_count": 30,
   "metadata": {},
   "outputs": [],
   "source": [
    "df_diagnosis.set_index(\"Dx_Title\", inplace=True)"
   ]
  },
  {
   "cell_type": "code",
   "execution_count": null,
   "metadata": {},
   "outputs": [],
   "source": [
    "df_diagnosis_1 = df_diagnosis.loc[['Atrial septal defect','Ventricular septal defect','Hypoplastic heart syndrome', 'Patent ductus arteriosus', 'Double outlet right ventricle', 'Transposition of the great vessel', 'Double inlet left ventricle', 'Shone complex', 'Atrioventricular complete canal', 'Partial atrioventricular canal', 'Pulmonary stenosis', 'Pulmonary atresia', 'pulmonary atresia ventricular septal defect', 'Pulmonary atresia intact ventricular septum', 'Aorta stenosis', 'Mitral stenosis', 'Tricuspid atresia', 'Tricuspid stenosis', 'Einstein anomaly']]\n",
    "df_diagnosis_1.head()"
   ]
  },
  {
   "cell_type": "code",
   "execution_count": 39,
   "metadata": {},
   "outputs": [
    {
     "data": {
      "text/plain": [
       "1305"
      ]
     },
     "execution_count": 39,
     "metadata": {},
     "output_type": "execute_result"
    }
   ],
   "source": [
    "len(df_diagnosis_1)"
   ]
  },
  {
   "cell_type": "code",
   "execution_count": 40,
   "metadata": {},
   "outputs": [
    {
     "data": {
      "text/html": [
       "<div>\n",
       "<style scoped>\n",
       "    .dataframe tbody tr th:only-of-type {\n",
       "        vertical-align: middle;\n",
       "    }\n",
       "\n",
       "    .dataframe tbody tr th {\n",
       "        vertical-align: top;\n",
       "    }\n",
       "\n",
       "    .dataframe thead th {\n",
       "        text-align: right;\n",
       "    }\n",
       "</style>\n",
       "<table border=\"1\" class=\"dataframe\">\n",
       "  <thead>\n",
       "    <tr style=\"text-align: right;\">\n",
       "      <th></th>\n",
       "      <th>Dx_Title</th>\n",
       "      <th>Generic_Drug_Title</th>\n",
       "      <th>Discharge_ID</th>\n",
       "      <th>Dx_Code</th>\n",
       "      <th>Px_Code</th>\n",
       "      <th>Px_Title</th>\n",
       "    </tr>\n",
       "  </thead>\n",
       "  <tbody>\n",
       "    <tr>\n",
       "      <th>0</th>\n",
       "      <td>Atrial septal defect</td>\n",
       "      <td>Beractant (natural lung surfactant)</td>\n",
       "      <td>142466482.0</td>\n",
       "      <td>Q211</td>\n",
       "      <td>3E0234Z</td>\n",
       "      <td>Introduction of Serum, Toxoid and Vaccine into...</td>\n",
       "    </tr>\n",
       "    <tr>\n",
       "      <th>1</th>\n",
       "      <td>Atrial septal defect</td>\n",
       "      <td>Beractant (natural lung surfactant)</td>\n",
       "      <td>142466482.0</td>\n",
       "      <td>Q211</td>\n",
       "      <td>3E0234Z</td>\n",
       "      <td>Introduction of Serum, Toxoid and Vaccine into...</td>\n",
       "    </tr>\n",
       "    <tr>\n",
       "      <th>2</th>\n",
       "      <td>Atrial septal defect</td>\n",
       "      <td>Beractant (natural lung surfactant)</td>\n",
       "      <td>142466482.0</td>\n",
       "      <td>Q211</td>\n",
       "      <td>3E0234Z</td>\n",
       "      <td>Introduction of Serum, Toxoid and Vaccine into...</td>\n",
       "    </tr>\n",
       "    <tr>\n",
       "      <th>3</th>\n",
       "      <td>Atrial septal defect</td>\n",
       "      <td>Beractant (natural lung surfactant)</td>\n",
       "      <td>142466482.0</td>\n",
       "      <td>Q211</td>\n",
       "      <td>3E0234Z</td>\n",
       "      <td>Introduction of Serum, Toxoid and Vaccine into...</td>\n",
       "    </tr>\n",
       "    <tr>\n",
       "      <th>4</th>\n",
       "      <td>Atrial septal defect</td>\n",
       "      <td>Beractant (natural lung surfactant)</td>\n",
       "      <td>145056420.0</td>\n",
       "      <td>Q211</td>\n",
       "      <td>0BH17EZ</td>\n",
       "      <td>Insertion of Endotracheal Airway into Trachea,...</td>\n",
       "    </tr>\n",
       "  </tbody>\n",
       "</table>\n",
       "</div>"
      ],
      "text/plain": [
       "               Dx_Title                   Generic_Drug_Title  Discharge_ID  \\\n",
       "0  Atrial septal defect  Beractant (natural lung surfactant)   142466482.0   \n",
       "1  Atrial septal defect  Beractant (natural lung surfactant)   142466482.0   \n",
       "2  Atrial septal defect  Beractant (natural lung surfactant)   142466482.0   \n",
       "3  Atrial septal defect  Beractant (natural lung surfactant)   142466482.0   \n",
       "4  Atrial septal defect  Beractant (natural lung surfactant)   145056420.0   \n",
       "\n",
       "  Dx_Code  Px_Code                                           Px_Title  \n",
       "0    Q211  3E0234Z  Introduction of Serum, Toxoid and Vaccine into...  \n",
       "1    Q211  3E0234Z  Introduction of Serum, Toxoid and Vaccine into...  \n",
       "2    Q211  3E0234Z  Introduction of Serum, Toxoid and Vaccine into...  \n",
       "3    Q211  3E0234Z  Introduction of Serum, Toxoid and Vaccine into...  \n",
       "4    Q211  0BH17EZ  Insertion of Endotracheal Airway into Trachea,...  "
      ]
     },
     "execution_count": 40,
     "metadata": {},
     "output_type": "execute_result"
    }
   ],
   "source": [
    "df_diagnosis_1.reset_index(inplace=True)\n",
    "df_diagnosis_1.head()"
   ]
  },
  {
   "cell_type": "code",
   "execution_count": 41,
   "metadata": {},
   "outputs": [],
   "source": [
    "df_diagnosis_1.to_csv(\"diagnosis_heart_diseases.csv\", index=False, header=True)"
   ]
  },
  {
   "cell_type": "code",
   "execution_count": null,
   "metadata": {},
   "outputs": [],
   "source": []
  }
 ],
 "metadata": {
  "kernelspec": {
   "display_name": "Python 3",
   "language": "python",
   "name": "python3"
  },
  "language_info": {
   "codemirror_mode": {
    "name": "ipython",
    "version": 3
   },
   "file_extension": ".py",
   "mimetype": "text/x-python",
   "name": "python",
   "nbconvert_exporter": "python",
   "pygments_lexer": "ipython3",
   "version": "3.7.2"
  }
 },
 "nbformat": 4,
 "nbformat_minor": 2
}

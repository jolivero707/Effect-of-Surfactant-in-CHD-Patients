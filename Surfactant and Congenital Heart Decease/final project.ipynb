{
 "cells": [
  {
   "cell_type": "code",
   "execution_count": 3,
   "metadata": {},
   "outputs": [],
   "source": [
    "import os\n",
    "import sqlalchemy\n",
    "from sqlalchemy.ext.automap import automap_base\n",
    "from sqlalchemy.orm import Session\n",
    "from sqlalchemy import create_engine, func,inspect,MetaData, Table,Column, Integer, String, Float\n",
    "from sqlalchemy.ext.declarative import declarative_base\n",
    "Base = declarative_base()\n",
    "\n",
    "from sqlalchemy import create_engine\n",
    "import pymysql\n",
    "pymysql.install_as_MySQLdb()\n",
    "\n",
    "from sqlalchemy.ext.declarative import declarative_base\n",
    "Base = declarative_base()\n",
    "from sqlalchemy import Column, Integer, String, Float\n",
    "\n",
    "from config import dbuser, dbpasswd, dburi, dbport, dbname\n",
    "from sqlalchemy import create_engine\n",
    "from sqlalchemy.orm import Session\n",
    "import numpy as np\n",
    "import pandas as pd"
   ]
  },
  {
   "cell_type": "code",
   "execution_count": 5,
   "metadata": {},
   "outputs": [],
   "source": [
    "engine = create_engine(f\"mysql://{dbuser}:{dbpasswd}@{dburi}:{dbport}/{dbname}\")\n",
    "metaData = MetaData(engine)\n",
    "metaData.reflect(engine)\n",
    "Base = automap_base(metadata=metaData)\n",
    "Base.prepare(engine, reflect=True)\n",
    "Base.metadata.create_all(engine)\n",
    "\n",
    "Pharmacy = Base.classes.pharmacy\n",
    "Demographics = Base.classes.demographics\n",
    "Imagining = Base.classes.imagining\n",
    "Pxcode = Base.classes.pxcode\n",
    "Dxcode = Base.classes.dxcode\n",
    "\n",
    "session = Session(engine)\n",
    "Base.metadata.create_all(engine)\n"
   ]
  },
  {
   "cell_type": "code",
   "execution_count": null,
   "metadata": {},
   "outputs": [],
   "source": [
    "##This code was used for SQL search and creation of the clean database together with the import_csv_db.i \n",
    "##and extra work in excell\n",
    "\n",
    "USE surfactant;\n",
    "SELECT pharmacy.`Generic Drug Title`, pharmacy.`Discharge ID`, dxcode.`Dx Code (ICD)`,\n",
    "`Dx Code (ICD)` dxcode.`Dx Title (ICD)` FROM pharmacy\n",
    "LEFT JOIN dxcode\n",
    "ON pharmacy.`Discharge ID` = dxcode.`Discharge ID`\n",
    "WHERE pharmacy.`Generic Drug Title` LIKE \"%surfactant%\";\n",
    "\n",
    "USE surfactant;\n",
    "SELECT pharmacy.`Generic Drug Title`, pharmacy.`Discharge ID`, dxcode.`Dx Code (ICD)`,\n",
    "dxcode.`Dx Title (ICD)`, pxcode.`Px Code (ICD)`, pxcode.`Px Title (ICD)` FROM pharmacy\n",
    "LEFT JOIN dxcode ON pharmacy.`Discharge ID` = dxcode.`Discharge ID`\n",
    "LEFT JOIN pxcode ON pharmacy.`Discharge ID` = pxcode.`Discharge ID`\n",
    "WHERE pharmacy.`Generic Drug Title` LIKE \"%surfactant%\";\n",
    "\n",
    "USE surfactant;\n",
    "SELECT*FROM surfactant.dxcode;\n",
    "\n",
    "USE surfactant;\n",
    "SELECT pharmacy.`Therapeutic Category Title`, pharmacy.`Discharge ID`, dxcode.`Dx Code (ICD)`,\n",
    "dxcode.`Dx Title (ICD)`, pxcode.`Px Code (ICD)`, pxcode.`Px Title (ICD)` FROM pharmacy\n",
    "LEFT JOIN dxcode ON pharmacy.`Discharge ID` = dxcode.`Discharge ID`\n",
    "LEFT JOIN pxcode ON pharmacy.`Discharge ID` = pxcode.`Discharge ID`\n",
    "WHERE pharmacy.`Therapeutic Category Title` LIKE \"%surfactant%\";\n"
   ]
  }
 ],
 "metadata": {
  "kernelspec": {
   "display_name": "Python 3",
   "language": "python",
   "name": "python3"
  },
  "language_info": {
   "codemirror_mode": {
    "name": "ipython",
    "version": 3
   },
   "file_extension": ".py",
   "mimetype": "text/x-python",
   "name": "python",
   "nbconvert_exporter": "python",
   "pygments_lexer": "ipython3",
   "version": "3.7.2"
  }
 },
 "nbformat": 4,
 "nbformat_minor": 2
}
